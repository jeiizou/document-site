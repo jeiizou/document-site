{
 "cells": [
  {
   "attachments": {},
   "cell_type": "markdown",
   "metadata": {},
   "source": [
    "# 第一个测试任务"
   ]
  },
  {
   "attachments": {},
   "cell_type": "markdown",
   "metadata": {},
   "source": [
    "加载需要的库"
   ]
  },
  {
   "cell_type": "code",
   "execution_count": null,
   "metadata": {},
   "outputs": [],
   "source": [
    "import matplotlib.pyplot as plt\n",
    "import numpy as np\n",
    "from sklearn import datasets, linear_model, model_selection\n",
    "\n",
    "# 加载内置的数据集\n",
    "# X是一个数据矩阵, y是回归目标\n",
    "X, y = datasets.load_diabetes(return_X_y=True)\n",
    "print(X.shape)\n",
    "print(X[0])\n"
   ]
  },
  {
   "cell_type": "code",
   "execution_count": null,
   "metadata": {},
   "outputs": [],
   "source": [
    "# 将数据集中的一部分排列到一个新数组中\n",
    "X = X[:, np.newaxis, 2]\n",
    "# 将数据X和目标y拆分为测试集和训练集\n",
    "X_train, X_test, y_train, y_test = model_selection.train_test_split(X, y, test_size=0.33)\n",
    "\n",
    "# 加载线性回归模型\n",
    "model = linear_model.LinearRegression()\n",
    "# 使用`model.fit()`使用X和y训练集对其进行训练\n",
    "model.fit(X_train, y_train)\n",
    "\n",
    "# 使用测试数据创建预测\n",
    "y_pred = model.predict(X_test)\n"
   ]
  },
  {
   "cell_type": "code",
   "execution_count": null,
   "metadata": {},
   "outputs": [],
   "source": [
    "plt.scatter(X_test, y_test,  color='black')\n",
    "plt.plot(X_test, y_pred, color='blue', linewidth=3)\n",
    "plt.show()"
   ]
  }
 ],
 "metadata": {
  "kernelspec": {
   "display_name": "sklearn-env",
   "language": "python",
   "name": "python3"
  },
  "language_info": {
   "codemirror_mode": {
    "name": "ipython",
    "version": 3
   },
   "file_extension": ".py",
   "mimetype": "text/x-python",
   "name": "python",
   "nbconvert_exporter": "python",
   "pygments_lexer": "ipython3",
   "version": "3.11.0"
  },
  "orig_nbformat": 4,
  "vscode": {
   "interpreter": {
    "hash": "8f1375c58a12c723df07f60bae502bdde7dc761a5199b94bab27fead498d56a2"
   }
  }
 },
 "nbformat": 4,
 "nbformat_minor": 2
}
